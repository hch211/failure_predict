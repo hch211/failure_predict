{
 "cells": [
  {
   "cell_type": "code",
   "execution_count": 8,
   "id": "5eec43c9",
   "metadata": {},
   "outputs": [
    {
     "name": "stdout",
     "output_type": "stream",
     "text": [
      "Reinitialized existing Git repository in /home/huangchenghao/failure prediction/.git/\r\n"
     ]
    }
   ],
   "source": [
    "!git init"
   ]
  },
  {
   "cell_type": "code",
   "execution_count": 9,
   "id": "f0b79596",
   "metadata": {},
   "outputs": [],
   "source": [
    "!git add ."
   ]
  },
  {
   "cell_type": "code",
   "execution_count": 10,
   "id": "b1f4720b",
   "metadata": {},
   "outputs": [
    {
     "name": "stdout",
     "output_type": "stream",
     "text": [
      "[master b8ecf9e] failure_predict\r\n",
      " 3 files changed, 143 insertions(+), 2 deletions(-)\r\n",
      " rename .ipynb_checkpoints/{failure_prediction-Copy1-checkpoint.ipynb => failure_prediction-checkpoint.ipynb} (100%)\r\n",
      " rename failure_prediction-Copy1.ipynb => failure_prediction.ipynb (100%)\r\n"
     ]
    }
   ],
   "source": [
    "!git commit -m 'failure_predict'"
   ]
  },
  {
   "cell_type": "code",
   "execution_count": 11,
   "id": "5590a301",
   "metadata": {},
   "outputs": [
    {
     "name": "stdout",
     "output_type": "stream",
     "text": [
      "fatal: remote origin already exists.\r\n"
     ]
    }
   ],
   "source": [
    "!git remote add origin git@github.com:hch211/failure_predict.git"
   ]
  },
  {
   "cell_type": "code",
   "execution_count": 6,
   "id": "5c2fbba0",
   "metadata": {},
   "outputs": [
    {
     "name": "stdout",
     "output_type": "stream",
     "text": [
      "ERROR: Repository not found.\r\n",
      "fatal: Could not read from remote repository.\r\n",
      "\r\n",
      "Please make sure you have the correct access rights\r\n",
      "and the repository exists.\r\n"
     ]
    }
   ],
   "source": [
    "# 如果仓库为空，就跳过这一行\n",
    "\n",
    "!git pull origin master"
   ]
  },
  {
   "cell_type": "code",
   "execution_count": 13,
   "id": "2f7a7e05",
   "metadata": {},
   "outputs": [
    {
     "name": "stdout",
     "output_type": "stream",
     "text": [
      "ERROR: Repository not found.\r\n",
      "fatal: Could not read from remote repository.\r\n",
      "\r\n",
      "Please make sure you have the correct access rights\r\n",
      "and the repository exists.\r\n"
     ]
    }
   ],
   "source": [
    "!git push -u origin master"
   ]
  },
  {
   "cell_type": "code",
   "execution_count": 14,
   "id": "dbd6314f",
   "metadata": {},
   "outputs": [
    {
     "name": "stdout",
     "output_type": "stream",
     "text": [
      "origin\tgit@github.com:hch211/failure_predict.git (fetch)\r\n",
      "origin\tgit@github.com:hch211/failure_predict.git (push)\r\n"
     ]
    }
   ],
   "source": [
    "!git remote -v"
   ]
  },
  {
   "cell_type": "code",
   "execution_count": 15,
   "id": "ee3fa105",
   "metadata": {},
   "outputs": [
    {
     "name": "stdout",
     "output_type": "stream",
     "text": [
      "OpenSSH_7.6p1 Ubuntu-4ubuntu0.3, OpenSSL 1.0.2n  7 Dec 2017\n",
      "debug1: Reading configuration data /etc/ssh/ssh_config\n",
      "debug1: /etc/ssh/ssh_config line 19: Applying options for *\n",
      "debug1: Connecting to github.com [20.205.243.166] port 22.\n",
      "debug1: Connection established.\n",
      "debug1: permanently_set_uid: 0/0\n",
      "debug1: identity file /root/.ssh/id_rsa type 0\n",
      "debug1: key_load_public: No such file or directory\n",
      "debug1: identity file /root/.ssh/id_rsa-cert type -1\n",
      "debug1: key_load_public: No such file or directory\n",
      "debug1: identity file /root/.ssh/id_dsa type -1\n",
      "debug1: key_load_public: No such file or directory\n",
      "debug1: identity file /root/.ssh/id_dsa-cert type -1\n",
      "debug1: key_load_public: No such file or directory\n",
      "debug1: identity file /root/.ssh/id_ecdsa type -1\n",
      "debug1: key_load_public: No such file or directory\n",
      "debug1: identity file /root/.ssh/id_ecdsa-cert type -1\n",
      "debug1: identity file /root/.ssh/id_ed25519 type 3\n",
      "debug1: key_load_public: No such file or directory\n",
      "debug1: identity file /root/.ssh/id_ed25519-cert type -1\n",
      "debug1: Local version string SSH-2.0-OpenSSH_7.6p1 Ubuntu-4ubuntu0.3\n",
      "debug1: Remote protocol version 2.0, remote software version babeld-01bfc857\n",
      "debug1: no match: babeld-01bfc857\n",
      "debug1: Authenticating to github.com:22 as 'git'\n",
      "debug1: SSH2_MSG_KEXINIT sent\n",
      "debug1: SSH2_MSG_KEXINIT received\n",
      "debug1: kex: algorithm: curve25519-sha256\n",
      "debug1: kex: host key algorithm: rsa-sha2-512\n",
      "debug1: kex: server->client cipher: chacha20-poly1305@openssh.com MAC: <implicit> compression: none\n",
      "debug1: kex: client->server cipher: chacha20-poly1305@openssh.com MAC: <implicit> compression: none\n",
      "debug1: expecting SSH2_MSG_KEX_ECDH_REPLY\n",
      "debug1: Server host key: ssh-rsa SHA256:nThbg6kXUpJWGl7E1IGOCspRomTxdCARLviKw6E5SY8\n",
      "debug1: Host 'github.com' is known and matches the RSA host key.\n",
      "debug1: Found key in /root/.ssh/known_hosts:3\n",
      "debug1: rekey after 134217728 blocks\n",
      "debug1: SSH2_MSG_NEWKEYS sent\n",
      "debug1: expecting SSH2_MSG_NEWKEYS\n",
      "debug1: SSH2_MSG_NEWKEYS received\n",
      "debug1: rekey after 134217728 blocks\n",
      "debug1: SSH2_MSG_EXT_INFO received\n",
      "debug1: kex_input_ext_info: server-sig-algs=<ssh-ed25519-cert-v01@openssh.com,ecdsa-sha2-nistp521-cert-v01@openssh.com,ecdsa-sha2-nistp384-cert-v01@openssh.com,ecdsa-sha2-nistp256-cert-v01@openssh.com,sk-ssh-ed25519-cert-v01@openssh.com,sk-ecdsa-sha2-nistp256-cert-v01@openssh.com,rsa-sha2-512-cert-v01@openssh.com,rsa-sha2-256-cert-v01@openssh.com,ssh-rsa-cert-v01@openssh.com,sk-ssh-ed25519@openssh.com,sk-ecdsa-sha2-nistp256@openssh.com,ssh-ed25519,ecdsa-sha2-nistp521,ecdsa-sha2-nistp384,ecdsa-sha2-nistp256,rsa-sha2-512,rsa-sha2-256,ssh-rsa>\n",
      "debug1: SSH2_MSG_SERVICE_ACCEPT received\n",
      "debug1: Authentications that can continue: publickey\n",
      "debug1: Next authentication method: publickey\n",
      "debug1: Offering public key: RSA SHA256:ZoPr9GhfvOjsKoSrKffUPKIl9RsLHKqAdK4WTc831jI /root/.ssh/id_rsa\n",
      "debug1: Server accepts key: pkalg rsa-sha2-512 blen 279\n",
      "debug1: Authentication succeeded (publickey).\n",
      "Authenticated to github.com ([20.205.243.166]:22).\n",
      "debug1: channel 0: new [client-session]\n",
      "debug1: Entering interactive session.\n",
      "debug1: pledge: network\n",
      "debug1: client_input_global_request: rtype hostkeys-00@openssh.com want_reply 0\n",
      "debug1: Sending environment.\n",
      "debug1: Sending env LC_CTYPE = C.UTF-8\n",
      "debug1: client_input_channel_req: channel 0 rtype exit-status reply 0\n",
      "Hi chenweilong915! You've successfully authenticated, but GitHub does not provide shell access.\n",
      "debug1: channel 0: free: client-session, nchannels 1\n",
      "Transferred: sent 2652, received 2960 bytes, in 0.8 seconds\n",
      "Bytes per second: sent 3167.1, received 3534.9\n",
      "debug1: Exit status 1\n"
     ]
    }
   ],
   "source": [
    "!ssh -Tv git@github.com"
   ]
  },
  {
   "cell_type": "code",
   "execution_count": null,
   "id": "9829962a",
   "metadata": {},
   "outputs": [],
   "source": []
  }
 ],
 "metadata": {
  "kernelspec": {
   "display_name": "Python 3",
   "language": "python",
   "name": "python3"
  },
  "language_info": {
   "codemirror_mode": {
    "name": "ipython",
    "version": 3
   },
   "file_extension": ".py",
   "mimetype": "text/x-python",
   "name": "python",
   "nbconvert_exporter": "python",
   "pygments_lexer": "ipython3",
   "version": "3.7.4"
  }
 },
 "nbformat": 4,
 "nbformat_minor": 5
}
